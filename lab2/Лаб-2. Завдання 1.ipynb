{
 "cells": [
  {
   "cell_type": "markdown",
   "metadata": {},
   "source": [
    "#  Лабораторна робота №2\n",
    "### навчально-методичний додаток\n",
    "***"
   ]
  },
  {
   "cell_type": "markdown",
   "metadata": {
    "heading_collapsed": true
   },
   "source": [
    "## Завдання № 1 \"Навігація в Jupyter Notebook\"\n",
    "\n",
    "\n",
    "- Продивитись __User Interface Tour__\n",
    "- Відкрити [довідник команд](https://cheatography.com/weidadeyue/cheat-sheets/jupyter-notebook/pdf_bw/)\n",
    "- користуючись довідником виконати операції, які наведено в наступних рядках\n"
   ]
  },
  {
   "cell_type": "code",
   "execution_count": 4,
   "metadata": {
    "hidden": true
   },
   "outputs": [
    {
     "data": {
      "text/plain": [
       "'Martynenko'"
      ]
     },
     "execution_count": 4,
     "metadata": {},
     "output_type": "execute_result"
    }
   ],
   "source": [
    "# перетворити цей рядок в рядок-коментар та ввести своє прізвище в форматі Title-2\n",
    "str.title('Martynenko')"
   ]
  },
  {
   "cell_type": "markdown",
   "metadata": {
    "hidden": true
   },
   "source": [
    "### Видалити цей рядок"
   ]
  },
  {
   "cell_type": "code",
   "execution_count": null,
   "metadata": {
    "hidden": true
   },
   "outputs": [],
   "source": []
  },
  {
   "cell_type": "markdown",
   "metadata": {
    "hidden": true
   },
   "source": [
    "### додати знизу пустий рядок"
   ]
  },
  {
   "cell_type": "code",
   "execution_count": 5,
   "metadata": {
    "code_folding": [],
    "hidden": true
   },
   "outputs": [],
   "source": [
    "# відключити в цьому рядку нумерацію строк"
   ]
  },
  {
   "cell_type": "markdown",
   "metadata": {
    "hidden": true
   },
   "source": [
    "### Додати до цього рядка зверху 2 рядка:\n",
    "1. Командний рядок\n",
    "2. Рядок коментарів"
   ]
  },
  {
   "cell_type": "markdown",
   "metadata": {},
   "source": [
    "## Завдання №2 \" Конструкції Python\"\n",
    "- заповнити пусті рядки вашим рішенням"
   ]
  },
  {
   "cell_type": "markdown",
   "metadata": {
    "heading_collapsed": true
   },
   "source": [
    "### Змінні\n",
    "\n",
    "Ім'я, яке використовується для позначення чогось або значення, називається **змінною**. У python можна оголошувати змінні і присвоювати йому значення наступним чином:\n",
    "\n",
    "- x = 10             \n",
    "- y = -3.1428         \n",
    "- s = \"Вася Пупкін\"\n",
    "- a = [x, y, s]\n",
    "- b = False\n",
    "- t = (y, \"Студент\")\n",
    "\n",
    "---\n",
    "_[Прочитати про типи даних](http://ruslan.rv.ua/python-starter/module01/01-05_types/)_\n",
    "\n",
    "Тип даних можна перевірити наступною інструкцією: `type(<імя змінної>)`"
   ]
  },
  {
   "cell_type": "code",
   "execution_count": 6,
   "metadata": {
    "code_folding": [],
    "hidden": true,
    "run_control": {
     "marked": false
    }
   },
   "outputs": [
    {
     "name": "stdout",
     "output_type": "stream",
     "text": [
      "Datatype  <class 'int'>\n",
      "Datatype  <class 'float'>\n",
      "Datatype  <class 'str'>\n",
      "Datatype  <class 'list'>\n",
      "Datatype  <class 'bool'>\n",
      "Datatype  <class 'tuple'>\n"
     ]
    }
   ],
   "source": [
    "# виконайте присвоювання та виведіть типи даних x, y, s, b, t:\n",
    "x = 10\n",
    "y = -3.1428\n",
    "s = \"Вася Пупкін\"\n",
    "a = [x, y, s]\n",
    "b = False\n",
    "t = (y, \"Студент\")\n",
    "\n",
    "print('Datatype ', type(x))\n",
    "print('Datatype ', type(y))\n",
    "print('Datatype ', type(s))\n",
    "print('Datatype ', type(a))\n",
    "print('Datatype ', type(b))\n",
    "print('Datatype ', type(t))"
   ]
  },
  {
   "cell_type": "markdown",
   "metadata": {
    "heading_collapsed": true
   },
   "source": [
    "### Опрератори\n",
    "\n",
    "#### арифметичні\n",
    "\n",
    "| Позначка | Виконує |\n",
    "|----|---|\n",
    "| +  | Додавання |\n",
    "| -  | Віднімання |\n",
    "| /  | поділ |\n",
    "| %  | остаток від ділення |\n",
    "| *  | множення |\n",
    "| //  | цілочісельне ділення |\n",
    "| **  | ступінь |"
   ]
  },
  {
   "cell_type": "code",
   "execution_count": 7,
   "metadata": {
    "hidden": true
   },
   "outputs": [
    {
     "name": "stdout",
     "output_type": "stream",
     "text": [
      "6.857200000000001\n",
      "13.1428\n",
      "-3.1818760341097114\n",
      "-2.5711999999999993\n",
      "-31.427999999999997\n",
      "-4.0\n",
      "0.0007197803728026997\n"
     ]
    }
   ],
   "source": [
    "# застосуйте вищенаведені оператори до `x` та `y`:\n",
    "x = 10\n",
    "y = -3.1428\n",
    "print(x + y)\n",
    "print(x - y)\n",
    "print(x / y)\n",
    "print(x % y)\n",
    "print(x * y)\n",
    "print(x // y)\n",
    "print(x ** y)"
   ]
  },
  {
   "cell_type": "markdown",
   "metadata": {
    "hidden": true
   },
   "source": [
    "#### порівняння\n",
    "| Позначка | Результат |\n",
    "|----|---|\n",
    "| == | True, якщо рівні |\n",
    "| !=  | True, якщо не рівні |\n",
    "| < | менше |\n",
    "| > | більше |\n",
    "| <=  | менше чи равно |\n",
    "| >=  | більше чи равно |"
   ]
  },
  {
   "cell_type": "code",
   "execution_count": 8,
   "metadata": {
    "hidden": true
   },
   "outputs": [
    {
     "name": "stdout",
     "output_type": "stream",
     "text": [
      "false\n",
      "true\n",
      "false\n",
      "true\n",
      "false\n",
      "true\n"
     ]
    }
   ],
   "source": [
    "# застосуйте вищенаведені оператори до `x` та `y`:\n",
    "x = 10\n",
    "y = -3.1428\n",
    "if x == y : \n",
    "    print('true')\n",
    "else :\n",
    "    print ('false')\n",
    "if x!= y :\n",
    "    print('true')\n",
    "else :\n",
    "    print ('false')\n",
    "if x < y :\n",
    "    print('true')\n",
    "else :\n",
    "    print ('false')\n",
    "if x > y :\n",
    "    print('true')\n",
    "else :\n",
    "    print ('false')\n",
    "if x<= y :\n",
    "    print('true')\n",
    "else :\n",
    "    print ('false')\n",
    "if x>= y :\n",
    "    print('true')\n",
    "else :\n",
    "    print ('false')\n"
   ]
  },
  {
   "cell_type": "markdown",
   "metadata": {
    "heading_collapsed": true
   },
   "source": [
    "### Вбудовані функції перетворення типів\n",
    "1. str(<змінна чи вираз>) - перетворення в строку\n",
    "2. int(<змінна чи вираз>) - перетворення в ціле\n",
    "3. float(<змінна чи вираз>) - перетворення в дийсне число\n",
    "\n",
    "[Прочитати про інші функції перетворення типів](https://pyneng.readthedocs.io/ru/latest/book/04_data_structures/convert_type.html)\n"
   ]
  },
  {
   "cell_type": "code",
   "execution_count": 9,
   "metadata": {
    "hidden": true
   },
   "outputs": [
    {
     "name": "stdout",
     "output_type": "stream",
     "text": [
      "10-(-3.1428, 'Студент')\n",
      "10-Вася Пупкін\n",
      "13.1428\n"
     ]
    }
   ],
   "source": [
    "# застосуйте (1) функцію до змінних 'x' - 't' , (2) до `x` - 's', (3) - `x` - `y`\n",
    "# (якщо будуть помилки - виправте їх самотуж)\n",
    "x = 10\n",
    "y = -3.1428\n",
    "s = \"Вася Пупкін\"\n",
    "a = [x, y, s]\n",
    "b = False\n",
    "t = (y, \"Студент\")\n",
    "\n",
    "t = str(t)\n",
    "x = str(x)\n",
    "print(x + '-' + t)\n",
    "\n",
    "x = str(x)\n",
    "print (x + '-' + s)\n",
    "\n",
    "\n",
    "x = float(x)\n",
    "print(x - y)\n",
    "\n",
    "\n"
   ]
  },
  {
   "cell_type": "markdown",
   "metadata": {
    "heading_collapsed": true
   },
   "source": [
    "## Завдання №3 \"Введення/вивід з консолі\"\n"
   ]
  },
  {
   "cell_type": "markdown",
   "metadata": {
    "hidden": true
   },
   "source": [
    "- __input__([символьний вираз]) - введення с консолі в _символьному форматі_ (__STDIN__) \n",
    "- __print__(<вираз>) - виведення в консоль (__STDOUT__)\n",
    "\n",
    "Для зчитування рядка зі стандартного вводу використовується функція input (), яка зчитує рядок з клавіатури і повертає значення, яке відразу ж можна привласнити змінним:\n",
    "`s = input()`\n",
    "\n",
    "Функція `input` повертає текстовий рядок. Якщо потрібно зробити так, щоб змінні мали чисельні значення, то відразу ж після зчитування виконаємо перетворення типів за допомогою функції `int` або `float`, і запишемо нове значення:\n",
    "`s1 = int(s)`\n",
    "\n",
    "Краще об'єднати зчитування рядків і перетворення типів, якщо викликати функцію int/float для того значення, яке поверне функція input ():\n",
    "`s = int(input())`"
   ]
  },
  {
   "cell_type": "code",
   "execution_count": 10,
   "metadata": {
    "hidden": true
   },
   "outputs": [],
   "source": [
    "# ввести з консолі число 2.71 в змінну 'e'\n",
    "e = float(input())"
   ]
  },
  {
   "cell_type": "code",
   "execution_count": 11,
   "metadata": {
    "hidden": true
   },
   "outputs": [
    {
     "name": "stdout",
     "output_type": "stream",
     "text": [
      "146.1660310351\n"
     ]
    }
   ],
   "source": [
    "# вивести в консоль 'е' в супені 5\n",
    "float_e = 2.71\n",
    "print(float_e ** 5)"
   ]
  },
  {
   "cell_type": "markdown",
   "metadata": {
    "hidden": true
   },
   "source": [
    "#### форматування  при виведенні\n",
    "у Python для позначення рядка використовуються одинарні, подвійні та потрійні лапки. Більшість використовують одинарні лапки при оголошенні одного символу. Подвійні лапки при оголошенні рядка та потрійні лапки при оголошенні абзацу / кількох рядків.\n",
    "\n",
    "- 'A' - одиночний символ\n",
    "- \"Студент Вася\" - рядок символів\n",
    "- \"\"\" Перший рядок \n",
    "    \n",
    "      Другий рядок\n",
    "      \n",
    "      ...\"\"\"\n"
   ]
  },
  {
   "cell_type": "code",
   "execution_count": 12,
   "metadata": {
    "hidden": true
   },
   "outputs": [
    {
     "name": "stdout",
     "output_type": "stream",
     "text": [
      "Вася Пупкін\n",
      "1+1 -> 2\n"
     ]
    }
   ],
   "source": [
    "# Рядки можуть бути призначені змінним наприкалд `name` та `surname`, \n",
    "# які можна викликати при використанні оператора print.\n",
    "# Виконайте код, який наведено нижче\n",
    "name = \"Вася\"\n",
    "surname = \"Пупкін\"\n",
    "print (name, surname)\n",
    "print(\"1+1\", 2, sep=\" -> \")"
   ]
  },
  {
   "cell_type": "markdown",
   "metadata": {
    "hidden": true
   },
   "source": [
    "Напишіть нижче, для чого нужна '`,`' та `sep` в функції `print()`:\n",
    "\n",
    "',' Потрібна для об'яви другої властивості surname(наприклад) sep - для форматування рядка"
   ]
  },
  {
   "cell_type": "markdown",
   "metadata": {
    "hidden": true
   },
   "source": [
    "### форматування в функції `print()`\n",
    "\n",
    "[Прочитати про методи форматування вивода](https://webdevblog.ru/f-stroki-python-3-uluchshennyj-sintaksis-formatirovaniya-strok/)"
   ]
  },
  {
   "cell_type": "code",
   "execution_count": 13,
   "metadata": {
    "hidden": true,
    "run_control": {
     "marked": false
    }
   },
   "outputs": [
    {
     "name": "stdout",
     "output_type": "stream",
     "text": [
      "Вася Пупкін - це студент\n",
      "Результат буде = 12.4\n",
      "Вася - True хлопець!\n",
      "Пупкін Вася\n"
     ]
    }
   ],
   "source": [
    "# виконати код та розібратись, чому функція `print()...format` спрацювала таким чином\n",
    "print(\"{} {} - це студент\".format(name, surname))\n",
    "print(\"Результат буде = {}\".format(42 / 5 + 4))\n",
    "b = True\n",
    "print(\"{} - {} хлопець!\".format(name, b))\n",
    "print(\"{} {}\".format(surname, name))"
   ]
  },
  {
   "cell_type": "markdown",
   "metadata": {},
   "source": [
    "## Завдання №4 \"Керування обчисленнями\""
   ]
  },
  {
   "cell_type": "markdown",
   "metadata": {
    "run_control": {
     "marked": false
    }
   },
   "source": [
    "### Умовний оператор if / if-else / if-elif"
   ]
  },
  {
   "cell_type": "markdown",
   "metadata": {},
   "source": [
    "`if <логічний вираз(умова)> :\n",
    "  <код>`\n",
    "  \n",
    "`if <логічний вираз(умова)> :\n",
    "  <код>\n",
    " else :\n",
    "    <код>`\n",
    "\n",
    "`if <логічний вираз(умова)> :\n",
    "  <код>\n",
    " elif <логічний вираз_1(умова)> :\n",
    "  <код>\n",
    " elif <логічний вираз_2(умова)> :\n",
    "  <код>\n",
    "... \n",
    " [else] :\n",
    "   <код>`"
   ]
  },
  {
   "cell_type": "code",
   "execution_count": 14,
   "metadata": {},
   "outputs": [
    {
     "name": "stdout",
     "output_type": "stream",
     "text": [
      "4\n",
      "4\n"
     ]
    }
   ],
   "source": [
    "x = int(input(\"Введи x: \"))\n",
    "\n",
    "# ----- 1 ----------\n",
    "if x > 5:\n",
    "    print (x)\n",
    "    \n",
    "# ----- 2 ----------    \n",
    "if -5 < x < 5 :\n",
    "    print (x)\n",
    "else:\n",
    "    print (x ** 2)\n",
    "    \n",
    "# ----- 3 ----------\n",
    "if x > -5:\n",
    "    print (x)\n",
    "elif -5 < x < 5:\n",
    "    print (x ** 2)\n",
    "elif x > 5:\n",
    "    print (x ** (1/2))"
   ]
  },
  {
   "cell_type": "markdown",
   "metadata": {},
   "source": [
    "напишіть, який __if__ спрацював при:\n",
    "\n",
    "x = -20     2\n",
    "\n",
    "x = 31.5    none 31.5 float а не int \n",
    "\n",
    "x = 4       3"
   ]
  },
  {
   "cell_type": "code",
   "execution_count": 15,
   "metadata": {},
   "outputs": [
    {
     "name": "stdout",
     "output_type": "stream",
     "text": [
      "Малятко\n"
     ]
    }
   ],
   "source": [
    "# напишить нижче код, який виводить слово 'студент', 'школяр' або 'малятко' \n",
    "# в залежності від введенного через консоль віку\n",
    "x = int(input(\"Введи x: \"))\n",
    "\n",
    "if x < 5 :\n",
    "    print('Малятко')\n",
    "elif x > 5 and x < 18:\n",
    "    print('Школяр')\n",
    "elif x > 18 :\n",
    "    print('Студент')\n",
    "\n"
   ]
  },
  {
   "cell_type": "markdown",
   "metadata": {},
   "source": [
    "### Цикли"
   ]
  },
  {
   "cell_type": "markdown",
   "metadata": {},
   "source": [
    "#### for\n",
    "\n",
    "`for <змінна> in <перераховуємий об'єкт>\n",
    "    код`\n",
    "    \n",
    "    \n",
    "__перераховуємий об'єкт__ - це об'єкт, який складається із декількох послідовних складових (чисел, строк та ін.)\n",
    "\n",
    "- 1, 13, -10, 321\n",
    "- \"Вася\", \"Пупкін\", \"студент\"\n",
    "- \"Вася\", -10.1, True\n",
    "\n",
    "[Прочитати про функцію `range`](https://python-scripts.com/range)"
   ]
  },
  {
   "cell_type": "code",
   "execution_count": 16,
   "metadata": {},
   "outputs": [
    {
     "name": "stdout",
     "output_type": "stream",
     "text": [
      "-1\n",
      "-3\n",
      "-5\n",
      "-7\n",
      "-9\n"
     ]
    }
   ],
   "source": [
    "# приклад цикла з 'for' та 'if'\n",
    "for i in range(10):\n",
    "    if i % 2 != 0:\n",
    "        print (-i)\n",
    "    else:\n",
    "        pass"
   ]
  },
  {
   "cell_type": "markdown",
   "metadata": {},
   "source": [
    "<!-- напишить своїми словами, що виконує наведений вище код -->\n",
    "для об'єкту i робимо дію 10 разів\n",
    "якщо об'єк i поділений на 2 не дорівнює 0 \n",
    "то виводимо -i \n",
    "якщо ні: \n",
    "то 'pass' щоб уникнути помилки \n"
   ]
  },
  {
   "cell_type": "code",
   "execution_count": 17,
   "metadata": {},
   "outputs": [
    {
     "name": "stdout",
     "output_type": "stream",
     "text": [
      "0\n",
      "10\n",
      "20\n",
      "30\n",
      "40\n",
      "50\n",
      "60\n",
      "70\n",
      "80\n",
      "90\n",
      "100\n"
     ]
    }
   ],
   "source": [
    "# напишіть нижче код, який сумує числа, які діляться без остатка на 3 \n",
    "# в інтервалі від 10 до 100\n",
    "\n",
    "# приклад цикла з 'for' та 'if'\n",
    "for i in range(110):\n",
    "    if i % 10 == 0:\n",
    "        print (i)\n",
    "    else:\n",
    "        pass"
   ]
  },
  {
   "cell_type": "markdown",
   "metadata": {},
   "source": [
    "#### while\n",
    "\n",
    "[прочитати про цикл while](https://pythontutor.ru/lessons/while/)"
   ]
  },
  {
   "cell_type": "code",
   "execution_count": 18,
   "metadata": {},
   "outputs": [
    {
     "name": "stdout",
     "output_type": "stream",
     "text": [
      "було введено\n"
     ]
    }
   ],
   "source": [
    "# запустіть цей код \n",
    "while(input(\"тисни тут: \") != '0'):\n",
    "    print (\"було введено\")"
   ]
  },
  {
   "cell_type": "markdown",
   "metadata": {},
   "source": [
    "поясніть своїми словами, що виконує наведений вище код\n",
    "\n",
    "Поки введене число не буде = 0 функція не припинить свою дію "
   ]
  },
  {
   "cell_type": "code",
   "execution_count": 19,
   "metadata": {},
   "outputs": [
    {
     "name": "stdout",
     "output_type": "stream",
     "text": [
      "0\n",
      "6\n",
      "12\n",
      "18\n",
      "24\n",
      "30\n",
      "36\n",
      "42\n",
      "48\n",
      "54\n",
      "60\n",
      "66\n",
      "72\n",
      "78\n",
      "84\n",
      "90\n",
      "96\n",
      "102\n",
      "108\n",
      "114\n",
      "120\n",
      "126\n",
      "132\n",
      "138\n",
      "144\n",
      "150\n",
      "156\n",
      "162\n",
      "168\n",
      "174\n",
      "180\n",
      "186\n",
      "192\n",
      "198\n",
      "204\n",
      "210\n",
      "216\n"
     ]
    }
   ],
   "source": [
    "# використовуючи 'while`напишіть нижче код, який сумує числа, \n",
    "# які діляться без залишка на 3 в інтервалі від 10 до 100\n",
    "for i in range(110):\n",
    "    if i % 3 == 0:\n",
    "        print (i + i)\n",
    "    else:\n",
    "        pass"
   ]
  }
 ],
 "metadata": {
  "kernelspec": {
   "display_name": "Python 3.11.0 64-bit",
   "language": "python",
   "name": "python3"
  },
  "language_info": {
   "codemirror_mode": {
    "name": "ipython",
    "version": 3
   },
   "file_extension": ".py",
   "mimetype": "text/x-python",
   "name": "python",
   "nbconvert_exporter": "python",
   "pygments_lexer": "ipython3",
   "version": "3.11.0"
  },
  "vscode": {
   "interpreter": {
    "hash": "01a1f85242d688df3f5284510d2e97c5ac05a034cf0fb689abd3063dca297150"
   }
  }
 },
 "nbformat": 4,
 "nbformat_minor": 2
}
